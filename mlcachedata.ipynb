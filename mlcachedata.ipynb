{
  "nbformat": 4,
  "nbformat_minor": 0,
  "metadata": {
    "colab": {
      "provenance": [],
      "authorship_tag": "ABX9TyOh6u1EjnNBw03KfWgixfFt",
      "include_colab_link": true
    },
    "kernelspec": {
      "name": "python3",
      "display_name": "Python 3"
    },
    "language_info": {
      "name": "python"
    }
  },
  "cells": [
    {
      "cell_type": "markdown",
      "metadata": {
        "id": "view-in-github",
        "colab_type": "text"
      },
      "source": [
        "<a href=\"https://colab.research.google.com/github/aisha-sk/ml-data-thing/blob/main/mlcachedata.ipynb\" target=\"_parent\"><img src=\"https://colab.research.google.com/assets/colab-badge.svg\" alt=\"Open In Colab\"/></a>"
      ]
    },
    {
      "cell_type": "code",
      "execution_count": 27,
      "metadata": {
        "colab": {
          "base_uri": "https://localhost:8080/"
        },
        "id": "UZXDX0KCeqRG",
        "outputId": "19289d06-0b6f-4fb4-a552-4268e76ae1d1"
      },
      "outputs": [
        {
          "output_type": "stream",
          "name": "stdout",
          "text": [
            "Model MSE: 10.315279000000006\n"
          ]
        }
      ],
      "source": [
        "import numpy as np\n",
        "import pandas as pd\n",
        "from sklearn.model_selection import train_test_split\n",
        "from sklearn.ensemble import RandomForestRegressor\n",
        "from sklearn.metrics import mean_squared_error\n",
        "\n",
        "np.random.seed(42)\n",
        "\n",
        "num_samples = 1000\n",
        "\n",
        "data = {\n",
        "    \"load_store_ratio\": np.random.uniform(0.1, 1.0, num_samples),\n",
        "    \"cache_miss_rate_L1\": np.random.uniform(0.01, 0.5, num_samples),\n",
        "    \"cache_miss_rate_L2\": np.random.uniform(0.01, 0.4, num_samples),\n",
        "    \"cache_miss_rate_L3\": np.random.uniform(0.01, 0.3, num_samples),\n",
        "    \"memory_access_pattern\": np.random.choice([0, 1], num_samples),\n",
        "    \"previous_fetch_size\": np.random.randint(32, 512, num_samples),\n",
        "}\n",
        "\n",
        "data[\"optimal_fetch_size\"] = (\n",
        "    64\n",
        "    + (data[\"load_store_ratio\"] * 128)\n",
        "    - (data[\"cache_miss_rate_L1\"] * 50)\n",
        "    - (data[\"cache_miss_rate_L2\"] * 30)\n",
        "    - (data[\"cache_miss_rate_L3\"] * 20)\n",
        "    + (data[\"memory_access_pattern\"] * 40)\n",
        ").astype(int)\n",
        "\n",
        "df = pd.DataFrame(data)\n",
        "\n",
        "X = df.drop(columns=[\"optimal_fetch_size\"])\n",
        "y = df[\"optimal_fetch_size\"]\n",
        "\n",
        "X_train, X_test, y_train, y_test = train_test_split(X, y, test_size=0.2, random_state=42)\n",
        "\n",
        "model = RandomForestRegressor(n_estimators=900, random_state=42)\n",
        "\n",
        "model.fit(X_train, y_train)\n",
        "\n",
        "y_pred = model.predict(X_test)\n",
        "\n",
        "mse = mean_squared_error(y_test, y_pred)\n",
        "\n",
        "print(f\"Model MSE: {mse}\")\n"
      ]
    },
    {
      "cell_type": "code",
      "source": [
        "new_data = pd.DataFrame({\n",
        "    \"load_store_ratio\": [0.5],\n",
        "    \"cache_miss_rate_L1\": [0.2],\n",
        "    \"cache_miss_rate_L2\": [0.15],\n",
        "    \"cache_miss_rate_L3\": [0.1],\n",
        "    \"memory_access_pattern\": [1],\n",
        "    \"previous_fetch_size\": [256]\n",
        "})\n",
        "\n",
        "predicted_fetch_size = model.predict(new_data)\n",
        "print(f\"Predicted Fetch Size: {predicted_fetch_size[0]} KB\")\n"
      ],
      "metadata": {
        "colab": {
          "base_uri": "https://localhost:8080/"
        },
        "id": "JsQgTcQ2fz5o",
        "outputId": "c834af6d-488b-4e3c-c68c-8ea3e4c37b3c"
      },
      "execution_count": 32,
      "outputs": [
        {
          "output_type": "stream",
          "name": "stdout",
          "text": [
            "Predicted Fetch Size: 149.57 KB\n"
          ]
        }
      ]
    }
  ]
}